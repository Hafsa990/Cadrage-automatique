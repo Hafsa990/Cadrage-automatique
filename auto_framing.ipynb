{
 "cells": [
  {
   "cell_type": "code",
   "execution_count": 1,
   "metadata": {},
   "outputs": [],
   "source": [
    "from utils import generate_frames, run_model_over_frames,auto_frame_all,make_new_video"
   ]
  },
  {
   "cell_type": "code",
   "execution_count": null,
   "metadata": {},
   "outputs": [],
   "source": [
    "#format of the video\n",
    "FORMAT = \"mp4\"\n",
    "\n",
    "VIDEO_NAME = \"high_quality_video_off_frame\"\n",
    "\n",
    "print(f\"Making {VIDEO_NAME}\")\n",
    "#name of final video result\n",
    "AUTOFRAMED_VIDEO_NAME = f\"{VIDEO_NAME}_autoframed\"\n",
    "\n",
    "#full path of the video constructed automatically. \n",
    "#Make sure to have a directory name called video_samples with the video file inside it.\n",
    "VIDEO_PATH = f\"./video_samples/{VIDEO_NAME}.{FORMAT}\"\n",
    "AUTOFRAMED_VIDEO_PATH = f\"./video_samples/{AUTOFRAMED_VIDEO_NAME}.{FORMAT}\"\n",
    "\n",
    "#Set automatically, no need to manually set those:\n",
    "FRAMES_ORIGINAL = f\"./extracted_video/{VIDEO_NAME}/frames\"\n",
    "FRAMES_MASKS =  f\"./extracted_video/{VIDEO_NAME}/frames_mask\"\n",
    "\n",
    "#Path directory of U-net model to make the masks, trained on 15,000 images\n",
    "MODEL_PATH  = \"./models/final_model.pth\"\n",
    "\n",
    "### Creates frames from 1 video and saves them locally into a folder called ../frames\n",
    "fps = generate_frames(video_path=VIDEO_PATH, frames_path=FRAMES_ORIGINAL)\n",
    "### run the model on all the frames generated to make 1 mask per frame, and save it in ../frames_mask\n",
    "run_model_over_frames(frames_path=FRAMES_ORIGINAL, masks_path=FRAMES_MASKS, model_path=MODEL_PATH)\n",
    "### run the autoframe algorithm on the mask, save it for every image, then run it with \n",
    "## those dimensions on the original frame too and save it in  ../frames_mask directory with a different name\n",
    "auto_frame_all(masks_path=FRAMES_MASKS, frames_path=FRAMES_ORIGINAL, head_ratio=0.0)\n",
    "make_new_video(frames_path=FRAMES_ORIGINAL, fps=fps, new_video_path=AUTOFRAMED_VIDEO_PATH)\n",
    "\n",
    "\n"
   ]
  }
 ],
 "metadata": {
  "kernelspec": {
   "display_name": "pytorch_env",
   "language": "python",
   "name": "python3"
  },
  "language_info": {
   "codemirror_mode": {
    "name": "ipython",
    "version": 3
   },
   "file_extension": ".py",
   "mimetype": "text/x-python",
   "name": "python",
   "nbconvert_exporter": "python",
   "pygments_lexer": "ipython3",
   "version": "3.9.16"
  }
 },
 "nbformat": 4,
 "nbformat_minor": 2
}
